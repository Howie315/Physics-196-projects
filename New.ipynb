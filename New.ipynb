{
 "metadata": {
  "language_info": {
   "codemirror_mode": {
    "name": "ipython",
    "version": 3
   },
   "file_extension": ".py",
   "mimetype": "text/x-python",
   "name": "python",
   "nbconvert_exporter": "python",
   "pygments_lexer": "ipython3",
   "version": "3.8.2"
  },
  "orig_nbformat": 2,
  "kernelspec": {
   "name": "python382jvsc74a57bd031f2aee4e71d21fbe5cf8b01ff0e069b9275f58929596ceb00d14d90e3e16cd6",
   "display_name": "Python 3.8.2 64-bit"
  },
  "metadata": {
   "interpreter": {
    "hash": "31f2aee4e71d21fbe5cf8b01ff0e069b9275f58929596ceb00d14d90e3e16cd6"
   }
  }
 },
 "nbformat": 4,
 "nbformat_minor": 2,
 "cells": [
  {
   "cell_type": "code",
   "execution_count": 15,
   "metadata": {},
   "outputs": [
    {
     "output_type": "execute_result",
     "data": {
      "text/plain": [
       "(R(R_1) + R(R_2)) | R(R_3)"
      ],
      "text/latex": "$(\\mathrm{R}(\\mathtt{\\text{R\\_1}}) + \\mathrm{R}(\\mathtt{\\text{R\\_2}})) | \\mathrm{R}(\\mathtt{\\text{R\\_3}})$"
     },
     "metadata": {},
     "execution_count": 15
    }
   ],
   "source": [
    "from lcapy import *\n",
    "Rtot = R('R_1') + R('R_2') | R('R_3')\n",
    "Rtot\n",
    "\n"
   ]
  },
  {
   "cell_type": "code",
   "execution_count": 16,
   "metadata": {},
   "outputs": [
    {
     "output_type": "execute_result",
     "data": {
      "text/plain": [
       "R(R₃⋅(R₁ + R₂)\n",
       "────────────\n",
       "R₁ + R₂ + R₃)"
      ],
      "text/latex": "$\\mathrm{R}(\\frac{R_{3} \\left(R_{1} + R_{2}\\right)}{R_{1} + R_{2} + R_{3}})$"
     },
     "metadata": {},
     "execution_count": 16
    }
   ],
   "source": [
    "Rtot.simplify()"
   ]
  },
  {
   "cell_type": "code",
   "execution_count": null,
   "metadata": {},
   "outputs": [],
   "source": []
  },
  {
   "cell_type": "code",
   "execution_count": 19,
   "metadata": {},
   "outputs": [
    {
     "output_type": "execute_result",
     "data": {
      "text/plain": [
       "(C(C_1) | C(C_1)) + C(C_3)"
      ],
      "text/latex": "$(\\mathrm{C}(\\mathtt{\\text{C\\_1}}) | \\mathrm{C}(\\mathtt{\\text{C\\_1}})) + \\mathrm{C}(\\mathtt{\\text{C\\_3}})$"
     },
     "metadata": {},
     "execution_count": 19
    }
   ],
   "source": [
    "from lcapy import *\n",
    "Ctot = (C('C_1') | C('C_1'))+ C('C_3')\n",
    "Ctot\n"
   ]
  },
  {
   "cell_type": "code",
   "execution_count": 21,
   "metadata": {},
   "outputs": [
    {
     "output_type": "execute_result",
     "data": {
      "text/plain": [
       "C( 2⋅C₁⋅C₃ \n",
       "─────────\n",
       "2⋅C₁ + C₃)"
      ],
      "text/latex": "$\\mathrm{C}(\\frac{2 C_{1} C_{3}}{2 C_{1} + C_{3}})$"
     },
     "metadata": {},
     "execution_count": 21
    }
   ],
   "source": [
    "Ctot.simplify()"
   ]
  },
  {
   "cell_type": "code",
   "execution_count": 12,
   "metadata": {},
   "outputs": [],
   "source": [
    "from lcapy import Circuit\n",
    "cct = Circuit(\"\"\"\n",
    "V1 1 0 \n",
    "R1 1 0 \n",
    "\"\"\")\n"
   ]
  },
  {
   "cell_type": "code",
   "execution_count": null,
   "metadata": {},
   "outputs": [],
   "source": []
  }
 ]
}