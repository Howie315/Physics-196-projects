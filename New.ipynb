{
 "metadata": {
  "language_info": {
   "codemirror_mode": {
    "name": "ipython",
    "version": 3
   },
   "file_extension": ".py",
   "mimetype": "text/x-python",
   "name": "python",
   "nbconvert_exporter": "python",
   "pygments_lexer": "ipython3",
   "version": "3.9.4"
  },
  "orig_nbformat": 2,
  "kernelspec": {
   "name": "pythonjvsc74a57bd0dcb72634f4a26a4edd1ac11c9cd852817ce73b27f538de96a06e9fb1a8c38e44",
   "display_name": "Python 3.9.4  ('env': venv)"
  },
  "metadata": {
   "interpreter": {
    "hash": "dcb72634f4a26a4edd1ac11c9cd852817ce73b27f538de96a06e9fb1a8c38e44"
   }
  }
 },
 "nbformat": 4,
 "nbformat_minor": 2,
 "cells": [
  {
   "cell_type": "code",
   "execution_count": 2,
   "metadata": {},
   "outputs": [
    {
     "output_type": "execute_result",
     "data": {
      "text/plain": [
       "(R(R_1) + R(R_2)) | R(R_3)"
      ],
      "text/latex": "$(\\mathrm{R}(\\mathtt{\\text{R\\_1}}) + \\mathrm{R}(\\mathtt{\\text{R\\_2}})) | \\mathrm{R}(\\mathtt{\\text{R\\_3}})$"
     },
     "metadata": {},
     "execution_count": 2
    }
   ],
   "source": [
    "from lcapy import *\n",
    "Rtot = R('R_1') + R('R_2') | R('R_3')\n",
    "Rtot\n",
    "\n"
   ]
  },
  {
   "cell_type": "code",
   "execution_count": 3,
   "metadata": {},
   "outputs": [
    {
     "output_type": "execute_result",
     "data": {
      "text/plain": [
       "R(R₃⋅(R₁ + R₂)\n",
       "────────────\n",
       "R₁ + R₂ + R₃)"
      ],
      "text/latex": "$\\mathrm{R}(\\frac{R_{3} \\left(R_{1} + R_{2}\\right)}{R_{1} + R_{2} + R_{3}})$"
     },
     "metadata": {},
     "execution_count": 3
    }
   ],
   "source": [
    "Rtot.simplify()"
   ]
  },
  {
   "cell_type": "code",
   "execution_count": null,
   "metadata": {},
   "outputs": [],
   "source": []
  },
  {
   "cell_type": "code",
   "execution_count": 4,
   "metadata": {},
   "outputs": [
    {
     "output_type": "execute_result",
     "data": {
      "text/plain": [
       "(C(C_1) | C(C_2)) + C(C_3)"
      ],
      "text/latex": "$(\\mathrm{C}(\\mathtt{\\text{C\\_1}}) | \\mathrm{C}(\\mathtt{\\text{C\\_2}})) + \\mathrm{C}(\\mathtt{\\text{C\\_3}})$"
     },
     "metadata": {},
     "execution_count": 4
    }
   ],
   "source": [
    "from lcapy import *\n",
    "Ctot = (C('C_1') | C('C_2'))+ C('C_3')\n",
    "Ctot\n"
   ]
  },
  {
   "cell_type": "code",
   "execution_count": 5,
   "metadata": {},
   "outputs": [
    {
     "output_type": "execute_result",
     "data": {
      "text/plain": [
       "C(C₃⋅(C₁ + C₂)\n",
       "────────────\n",
       "C₁ + C₂ + C₃)"
      ],
      "text/latex": "$\\mathrm{C}(\\frac{C_{3} \\left(C_{1} + C_{2}\\right)}{C_{1} + C_{2} + C_{3}})$"
     },
     "metadata": {},
     "execution_count": 5
    }
   ],
   "source": [
    "Ctot.simplify()"
   ]
  },
  {
   "cell_type": "code",
   "execution_count": 9,
   "metadata": {},
   "outputs": [],
   "source": [
    "from lcapy import Circuit\n",
    "cct = Circuit(\"\"\"\n",
    "V1 1 0 9\n",
    "R1 1 2 10\n",
    "R2 1 2 5\n",
    "R3 2 0 20\n",
    "\"\"\")"
   ]
  },
  {
   "cell_type": "code",
   "execution_count": null,
   "metadata": {},
   "outputs": [],
   "source": []
  },
  {
   "cell_type": "code",
   "execution_count": 8,
   "metadata": {},
   "outputs": [
    {
     "output_type": "execute_result",
     "data": {
      "text/plain": [
       "9/70"
      ],
      "text/latex": "$$\\frac{9}{70}$$"
     },
     "metadata": {},
     "execution_count": 8
    }
   ],
   "source": [
    "cct.R1.I"
   ]
  },
  {
   "cell_type": "code",
   "execution_count": 100,
   "metadata": {},
   "outputs": [
    {
     "output_type": "execute_result",
     "data": {
      "text/plain": [
       "9/7"
      ],
      "text/latex": "$$\\frac{9}{7}$$"
     },
     "metadata": {},
     "execution_count": 100
    }
   ],
   "source": [
    "cct.R1.V"
   ]
  },
  {
   "cell_type": "code",
   "execution_count": 101,
   "metadata": {},
   "outputs": [
    {
     "output_type": "execute_result",
     "data": {
      "text/plain": [
       "9/35"
      ],
      "text/latex": "$$\\frac{9}{35}$$"
     },
     "metadata": {},
     "execution_count": 101
    }
   ],
   "source": [
    "cct.R2.I"
   ]
  },
  {
   "cell_type": "code",
   "execution_count": 102,
   "metadata": {},
   "outputs": [
    {
     "output_type": "execute_result",
     "data": {
      "text/plain": [
       "9/7"
      ],
      "text/latex": "$$\\frac{9}{7}$$"
     },
     "metadata": {},
     "execution_count": 102
    }
   ],
   "source": [
    "cct.R2.V"
   ]
  },
  {
   "cell_type": "code",
   "execution_count": 103,
   "metadata": {},
   "outputs": [
    {
     "output_type": "execute_result",
     "data": {
      "text/plain": [
       "27\n",
       "──\n",
       "70"
      ],
      "text/latex": "$$\\frac{27}{70}$$"
     },
     "metadata": {},
     "execution_count": 103
    }
   ],
   "source": [
    "cct.R3.I"
   ]
  },
  {
   "cell_type": "code",
   "execution_count": 104,
   "metadata": {},
   "outputs": [
    {
     "output_type": "execute_result",
     "data": {
      "text/plain": [
       "54/7"
      ],
      "text/latex": "$$\\frac{54}{7}$$"
     },
     "metadata": {},
     "execution_count": 104
    }
   ],
   "source": [
    "cct.R3.V"
   ]
  },
  {
   "cell_type": "code",
   "execution_count": 306,
   "metadata": {},
   "outputs": [],
   "source": [
    "from lcapy import Circuit\n",
    "cct = Circuit(\"\"\"\n",
    "V1 1 0 13\n",
    "R1 1 2 1\n",
    "R2 1 3 1\n",
    "R3 2 3 1\n",
    "R4 2 0 1\n",
    "R5 3 0 2\n",
    "\"\"\")\n"
   ]
  },
  {
   "cell_type": "code",
   "execution_count": 307,
   "metadata": {},
   "outputs": [
    {
     "output_type": "execute_result",
     "data": {
      "text/plain": [
       "6"
      ],
      "text/latex": "$$6$$"
     },
     "metadata": {},
     "execution_count": 307
    }
   ],
   "source": [
    "cct.R1.I"
   ]
  },
  {
   "cell_type": "code",
   "execution_count": 308,
   "metadata": {},
   "outputs": [
    {
     "output_type": "execute_result",
     "data": {
      "text/plain": [
       "6"
      ],
      "text/latex": "$$6$$"
     },
     "metadata": {},
     "execution_count": 308
    }
   ],
   "source": [
    "cct.R1.V"
   ]
  },
  {
   "cell_type": "code",
   "execution_count": 309,
   "metadata": {},
   "outputs": [
    {
     "output_type": "execute_result",
     "data": {
      "text/plain": [
       "5"
      ],
      "text/latex": "$$5$$"
     },
     "metadata": {},
     "execution_count": 309
    }
   ],
   "source": [
    "cct.R2.I"
   ]
  },
  {
   "cell_type": "code",
   "execution_count": 310,
   "metadata": {},
   "outputs": [
    {
     "output_type": "execute_result",
     "data": {
      "text/plain": [
       "5"
      ],
      "text/latex": "$$5$$"
     },
     "metadata": {},
     "execution_count": 310
    }
   ],
   "source": [
    "cct.R2.V"
   ]
  },
  {
   "cell_type": "code",
   "execution_count": 311,
   "metadata": {},
   "outputs": [
    {
     "output_type": "execute_result",
     "data": {
      "text/plain": [
       "-1"
      ],
      "text/latex": "$$-1$$"
     },
     "metadata": {},
     "execution_count": 311
    }
   ],
   "source": [
    "cct.R3.I"
   ]
  },
  {
   "cell_type": "code",
   "execution_count": 312,
   "metadata": {},
   "outputs": [
    {
     "output_type": "execute_result",
     "data": {
      "text/plain": [
       "-1"
      ],
      "text/latex": "$$-1$$"
     },
     "metadata": {},
     "execution_count": 312
    }
   ],
   "source": [
    "cct.R3.V"
   ]
  },
  {
   "cell_type": "code",
   "execution_count": 313,
   "metadata": {},
   "outputs": [
    {
     "output_type": "execute_result",
     "data": {
      "text/plain": [
       "7"
      ],
      "text/latex": "$$7$$"
     },
     "metadata": {},
     "execution_count": 313
    }
   ],
   "source": [
    "cct.R4.I"
   ]
  },
  {
   "cell_type": "code",
   "execution_count": 314,
   "metadata": {},
   "outputs": [
    {
     "output_type": "execute_result",
     "data": {
      "text/plain": [
       "7"
      ],
      "text/latex": "$$7$$"
     },
     "metadata": {},
     "execution_count": 314
    }
   ],
   "source": [
    "cct.R4.V"
   ]
  },
  {
   "cell_type": "code",
   "execution_count": 315,
   "metadata": {},
   "outputs": [
    {
     "output_type": "execute_result",
     "data": {
      "text/plain": [
       "4"
      ],
      "text/latex": "$$4$$"
     },
     "metadata": {},
     "execution_count": 315
    }
   ],
   "source": [
    "cct.R5.I"
   ]
  },
  {
   "cell_type": "code",
   "execution_count": 316,
   "metadata": {},
   "outputs": [
    {
     "output_type": "execute_result",
     "data": {
      "text/plain": [
       "8"
      ],
      "text/latex": "$$8$$"
     },
     "metadata": {},
     "execution_count": 316
    }
   ],
   "source": [
    "cct.R5.V"
   ]
  },
  {
   "cell_type": "code",
   "execution_count": 297,
   "metadata": {},
   "outputs": [],
   "source": [
    "from lcapy import Circuit\n",
    "cct = Circuit(\"\"\"\n",
    "V1 1 0 9\n",
    "R1 1 2 2\n",
    "R2 1 2 3\n",
    "R3 1 2 5\n",
    "W1 2 0\n",
    "C1 2 0 20\n",
    "C2 2 0 15\n",
    "\"\"\")"
   ]
  },
  {
   "cell_type": "code",
   "execution_count": 298,
   "metadata": {},
   "outputs": [
    {
     "output_type": "execute_result",
     "data": {
      "text/plain": [
       "9"
      ],
      "text/latex": "$$9$$"
     },
     "metadata": {},
     "execution_count": 298
    }
   ],
   "source": [
    "cct.R1.V"
   ]
  },
  {
   "cell_type": "code",
   "execution_count": 299,
   "metadata": {},
   "outputs": [
    {
     "output_type": "execute_result",
     "data": {
      "text/plain": [
       "9/2"
      ],
      "text/latex": "$$\\frac{9}{2}$$"
     },
     "metadata": {},
     "execution_count": 299
    }
   ],
   "source": [
    "cct.R1.I"
   ]
  },
  {
   "cell_type": "code",
   "execution_count": 300,
   "metadata": {},
   "outputs": [
    {
     "output_type": "execute_result",
     "data": {
      "text/plain": [
       "9"
      ],
      "text/latex": "$$9$$"
     },
     "metadata": {},
     "execution_count": 300
    }
   ],
   "source": [
    "cct.R2.V"
   ]
  },
  {
   "cell_type": "code",
   "execution_count": 301,
   "metadata": {},
   "outputs": [
    {
     "output_type": "execute_result",
     "data": {
      "text/plain": [
       "3"
      ],
      "text/latex": "$$3$$"
     },
     "metadata": {},
     "execution_count": 301
    }
   ],
   "source": [
    "cct.R2.I"
   ]
  },
  {
   "cell_type": "code",
   "execution_count": 302,
   "metadata": {},
   "outputs": [
    {
     "output_type": "execute_result",
     "data": {
      "text/plain": [
       "9"
      ],
      "text/latex": "$$9$$"
     },
     "metadata": {},
     "execution_count": 302
    }
   ],
   "source": [
    "cct.R3.V"
   ]
  },
  {
   "cell_type": "code",
   "execution_count": 303,
   "metadata": {},
   "outputs": [
    {
     "output_type": "execute_result",
     "data": {
      "text/plain": [
       "9/5"
      ],
      "text/latex": "$$\\frac{9}{5}$$"
     },
     "metadata": {},
     "execution_count": 303
    }
   ],
   "source": [
    "cct.R3.I"
   ]
  },
  {
   "cell_type": "code",
   "execution_count": null,
   "metadata": {},
   "outputs": [],
   "source": []
  }
 ]
}